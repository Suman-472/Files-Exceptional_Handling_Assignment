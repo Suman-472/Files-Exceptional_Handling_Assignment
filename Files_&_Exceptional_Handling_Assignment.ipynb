{
  "nbformat": 4,
  "nbformat_minor": 0,
  "metadata": {
    "colab": {
      "provenance": []
    },
    "kernelspec": {
      "name": "python3",
      "display_name": "Python 3"
    },
    "language_info": {
      "name": "python"
    }
  },
  "cells": [
    {
      "cell_type": "code",
      "execution_count": null,
      "metadata": {
        "id": "pMMfni2I5o6h"
      },
      "outputs": [],
      "source": [
        "# Q.1 Discuss the scenarios where multithreading is preferable to multiprocessing and scenarios where multiprocessing is a better choice.\n",
        "\n",
        "## Ans:\n",
        "\n",
        "     # Multithreading and multiprocessing are two techniques used to improve the performance of applications by executing multiple tasks concurrently.\n",
        "      # While they both aim to enhance efficiency, they differ in their underlying mechanisms and suitability for different scenarios.\n",
        "\n",
        "       # Multithreading is Preferable When:\n",
        "              # I/O-bound Tasks:\n",
        "                    # Tasks like network operations, file I/O, or user interface activities where the CPU often waits for external data can benefit from multithreading.\n",
        "              # Shared Memory:\n",
        "                    # When tasks need to access and modify shared data frequently, threads within the same process can do this more efficiently than separate processes.\n",
        "              # Low CPU Intensity:\n",
        "                    # For tasks that are not CPU-intensive but need to run concurrently, like handling multiple user requests in a web server.\n",
        "              # Real-Time Applications:\n",
        "                    # In applications requiring quick context switching and responsiveness (e.g., real-time simulations or user interface updates), threads can provide better performance.\n",
        "              # Simple Program Structure:\n",
        "                    # For applications where the problem can be broken down into smaller, concurrent tasks that don't require heavy isolation, multithreading can simplify program architecture.\n",
        "\n",
        "       # Multiprocessing is Better When:\n",
        "              # CPU-bound Tasks:\n",
        "                    # Heavy computational tasks, like data analysis or rendering, can utilize multiple CPU cores more effectively with multiprocessing.\n",
        "              # Task Independence:\n",
        "                    # When tasks donot need to share data frequently or can run independently, separate processes can avoid the complications of thread synchronization.\n",
        "              # Bypassing GIL:\n",
        "                    # In languages like Python, which have a Global Interpreter Lock (GIL) that can hinder multithreading, multiprocessing can leverage multiple CPU cores by running separate processes.\n",
        "              # Easier Debugging:\n",
        "                    # Debugging can be simpler in a multiprocessing context since each process is independent, making it easier to isolate issues."
      ]
    },
    {
      "cell_type": "code",
      "source": [
        "# Q.2 Describe what a process pool is and how it helps in managing multiple processes efficiently.\n",
        "\n",
        "## Ans:\n",
        "\n",
        "      # A process pool is a collection of pre-created processes that are ready to be reused for executing tasks.\n",
        "       # This mechanism is particularly useful in scenarios where multiple processes need to be created and managed frequently,\n",
        "        # as it can significantly reduce the overhead associated with process creation and termination.\n",
        "\n",
        "         # How Process Pools Work:\n",
        "               # Initialization:\n",
        "                     # A process pool is typically created with a specified size, determining the maximum number of processes it can hold.\n",
        "               # Task Submission:\n",
        "                     # When a task needs to be executed, it is submitted to the process pool.\n",
        "               # Process Assignment:\n",
        "                     # The pool's scheduler assigns the task to an available process. If no process is available, a new one is created.\n",
        "               # Task Execution:\n",
        "                     # The assigned process executes the task.\n",
        "               # Process Reuse:\n",
        "                     # Once the task is completed, the process is returned to the pool for reuse in subsequent tasks.\n",
        "\n",
        "         # Benefits of Using Process Pools:\n",
        "               # Reduced Overhead:\n",
        "                     # By reusing existing processes, the overhead associated with process creation and termination is minimized.\n",
        "               # Improved Performance:\n",
        "                     # The pre-created processes can quickly take on new tasks, leading to improved performance in applications that require frequent process creation.\n",
        "               # Resource Management:\n",
        "                     # Process pools can help manage system resources efficiently by limiting the number of processes that are created at any given time.\n",
        "               # Simplified Programming:\n",
        "                     # Using a process pool can simplify the programming model by abstracting away the details of process management.\n",
        "\n",
        "          # Common Use Cases:\n",
        "               # Web Servers:\n",
        "                     # Process pools are often used in web servers to handle multiple client requests concurrently.\n",
        "               # Task Queues:\n",
        "                     # Process pools can be used to process tasks from a queue, allowing for efficient parallel processing.\n",
        "               # Data Processing:\n",
        "                     # Process pools can be employed for data-intensive tasks like image processing or scientific simulations."
      ],
      "metadata": {
        "id": "sOnCgMpyBrnN"
      },
      "execution_count": null,
      "outputs": []
    },
    {
      "cell_type": "code",
      "source": [
        "# Q.3 Explain what multiprocessing is and why it is used in Python programs.\n",
        "\n",
        "## Ans:\n",
        "\n",
        "      # ultiprocessing is a technique in programming where multiple processes are executed concurrently to improve performance.\n",
        "        # In Python, it's implemented using the multiprocessing module. Each process runs independently, with its own memory space, allowing for parallel execution of tasks.\n",
        "\n",
        "         # Why Use Multiprocessing in Python Programs:\n",
        "              # CPU-Bound Tasks:\n",
        "                  # For tasks that are computationally intensive and heavily utilize the CPU, multiprocessing can significantly speed up execution by distributing the workload across multiple processes.\n",
        "              # I/O-Bound Tasks:\n",
        "                  # When tasks involve frequent input/output operations (e.g., reading/writing files, network communication), multiprocessing can help overcome the blocking nature of these operations.\n",
        "                  # While one process waits for I/O, others can continue executing, improving overall efficiency.\n",
        "              # Independent Tasks:\n",
        "                  # If tasks are independent and don't require shared data, multiprocessing is a natural fit. Each process can work on its own task without interfering with others.\n",
        "              # Resource Isolation:\n",
        "                  # Each process has its own memory space, preventing one process from accidentally affecting the state of another. This can be crucial for safety and reliability.\n",
        "\n",
        "         # Common Use Cases:\n",
        "              # Data Processing:\n",
        "                    # Large datasets can be processed in parallel, accelerating analysis and computations.\n",
        "              # Web Servers:\n",
        "                    # Handling multiple client requests concurrently can improve responsiveness.\n",
        "              # Scientific Simulations:\n",
        "                    # Complex simulations can benefit from the parallel execution of different parts of the computation.\n",
        "              # Machine Learning:\n",
        "                    # Training models on large datasets can be significantly faster using multiprocessing."
      ],
      "metadata": {
        "id": "x1e6L4GzBy48"
      },
      "execution_count": null,
      "outputs": []
    },
    {
      "cell_type": "code",
      "source": [
        "# Q.4 Write a Python program using multithreading where one thread adds numbers to a list, and another thread removes numbers from the list.\n",
        "      # Implement a mechanism to avoid race conditions using threading.Lock .\n",
        "\n",
        "## Ans:\n",
        "\n",
        "import threading\n",
        "import time\n",
        "import random\n",
        "\n",
        "shared_list = []\n",
        "lock = threading.Lock()\n",
        "\n",
        "def add_numbers():\n",
        "    for i in range(10):\n",
        "        time.sleep(random.uniform(0.1, 0.5))\n",
        "        with lock:\n",
        "            shared_list.append(i)\n",
        "            print(f'Added {i}: {shared_list}')\n",
        "\n",
        "def remove_numbers():\n",
        "    for _ in range(10):\n",
        "        time.sleep(random.uniform(0.1, 0.5))\n",
        "        with lock:\n",
        "            if shared_list:\n",
        "                removed = shared_list.pop(0)\n",
        "                print(f'Removed {removed}: {shared_list}')\n",
        "            else:\n",
        "                print('List is empty, nothing to remove.')\n",
        "\n",
        "add_thread = threading.Thread(target=add_numbers)\n",
        "remove_thread = threading.Thread(target=remove_numbers)\n",
        "\n",
        "add_thread.start()\n",
        "remove_thread.start()\n",
        "\n",
        "add_thread.join()\n",
        "remove_thread.join()\n",
        "\n",
        "print('Final list:', shared_list)"
      ],
      "metadata": {
        "colab": {
          "base_uri": "https://localhost:8080/"
        },
        "id": "yoVXYfzVLSNu",
        "outputId": "c6b18918-19ca-499f-dc48-c5f105628f72"
      },
      "execution_count": null,
      "outputs": [
        {
          "output_type": "stream",
          "name": "stdout",
          "text": [
            "List is empty, nothing to remove.\n",
            "Added 0: [0]\n",
            "Added 1: [0, 1]\n",
            "Removed 0: [1]\n",
            "Removed 1: []\n",
            "Added 2: [2]\n",
            "Added 3: [2, 3]\n",
            "Removed 2: [3]\n",
            "Added 4: [3, 4]\n",
            "Added 5: [3, 4, 5]\n",
            "Removed 3: [4, 5]\n",
            "Added 6: [4, 5, 6]\n",
            "Removed 4: [5, 6]\n",
            "Added 7: [5, 6, 7]\n",
            "Removed 5: [6, 7]\n",
            "Added 8: [6, 7, 8]\n",
            "Added 9: [6, 7, 8, 9]\n",
            "Removed 6: [7, 8, 9]\n",
            "Removed 7: [8, 9]\n",
            "Removed 8: [9]\n",
            "Final list: [9]\n"
          ]
        }
      ]
    },
    {
      "cell_type": "code",
      "source": [
        "# Q.5 Describe the methods and tools available in Python for safely sharing data between threads and processes.\n",
        "\n",
        "## Ans:\n",
        "      # Python offers several mechanisms to safely share data between threads and processes, ensuring that concurrent access doesn't lead to race conditions or data corruption.\n",
        "\n",
        "      # Data Sharing Between Threads:\n",
        "           # threading.Lock:\n",
        "                     # A basic locking mechanism to ensure only one thread accesses a resource at a time. This prevents race conditions.\n",
        "           # threading.RLock:\n",
        "                     # A reentrant lock, meaning the same thread can acquire it multiple times without causing a deadlock.\n",
        "           # threading.Condition:\n",
        "                     # Allows one thread to wait for a condition while another thread signals the condition, facilitating coordination between threads.\n",
        "           # threading.Semaphore:\n",
        "                     # Limits the number of threads accessing a resource simultaneously, useful for managing a fixed pool of resources.\n",
        "           # threading.Event:\n",
        "                     # Acts as a simple flag that can be set or cleared to control the flow of threads.\n",
        "\n",
        "      # Data Sharing Between Processes:\n",
        "           # multiprocessing.Queue:\n",
        "                     # A FIFO queue that allows data to be shared between processes safely.\n",
        "           # multiprocessing.Pipe:\n",
        "                     # Creates a pair of connected objects, allowing for two-way communication between processes.\n",
        "           # multiprocessing.Manager:\n",
        "                     # Provides a way to create shared objects like lists, dictionaries, and other data structures that can be modified by different processes.\n",
        "           # multiprocessing.Value:\n",
        "                     # A way to share simple data types (like integers, floats) between processes.\n",
        "           # multiprocessing.Array:\n",
        "                     # Allows sharing of a ctypes array between processes.\n",
        "\n",
        "   # For thread-based data sharing, use Lock, RLock, Condition, Semaphore, and Event to synchronize access to shared resources.\n",
        "   # For process-based data sharing, utilize Queue, Pipe, Manager, Value, and Array to facilitate communication and synchronization between processes."
      ],
      "metadata": {
        "id": "3ZKMm3WLOtEX"
      },
      "execution_count": null,
      "outputs": []
    },
    {
      "cell_type": "code",
      "source": [
        "# Q.6  Discuss why it’s crucial to handle exceptions in concurrent programs and the techniques available for doing so.\n",
        "\n",
        "## Ans:\n",
        "\n",
        "      # In concurrent programs, handling exceptions is a non-negotiable because errors can cause havoc if left unchecked.\n",
        "\n",
        "           # The Importance of Exception Handling in Concurrent Programs:\n",
        "                 # Avoid Data Corruption:\n",
        "                        # Unhandled exceptions can leave shared data in an inconsistent state, leading to unpredictable behaviors and corrupted results.\n",
        "                 # Ensure Program Stability:\n",
        "                        # By catching and dealing with exceptions, you can prevent the entire program from crashing due to a single thread or process failure.\n",
        "                 # Maintain Resource Integrity:\n",
        "                        # Properly handling exceptions ensures that resources like file handles, network connections, and locks are released appropriately, avoiding deadlocks and resource leaks.\n",
        "                 # Improved Debugging:\n",
        "                        # By logging exceptions when they occur, you can gain insights into what went wrong, making debugging and maintenance easier.\n",
        "\n",
        "           # Techniques for Handling Exceptions in Concurrent Programs:\n",
        "                 # Try-Except Blocks:\n",
        "                        # The most straightforward way to handle exceptions is to wrap code that may raise exceptions in try blocks and catch exceptions with except clauses.\n",
        "                        # Example:\n",
        "                                try:\n",
        "                                except SomeException as e:\n",
        "                 # Thread-Specific Exception Handling:\n",
        "                        # In threaded applications, each thread can have its own exception handling.\n",
        "                        # For example, if using the threading module, you can catch exceptions within the thread's target function.\n",
        "                 # Using Futures:\n",
        "                        # In Python’s concurrent.futures module, when using ThreadPoolExecutor or ProcessPoolExecutor, you can use the Future object to check for exceptions after a task is completed.\n",
        "                        # Example:\n",
        "                               from concurrent.futures import ThreadPoolExecutor\n",
        "\n",
        "                                def task():\n",
        "                                    raise ValueError(\"An error occurred\")\n",
        "\n",
        "                                with ThreadPoolExecutor() as executor:\n",
        "                                     future = executor.submit(task)\n",
        "                                     try:\n",
        "                                        result = future.result()\n",
        "                                     except Exception as e:\n",
        "                                        print(f'Handled exception: {e}')\n",
        "                 # Using Callbacks:\n",
        "                       # In some concurrent frameworks, you can define callbacks that are invoked when a task completes, allowing for centralized exception handling.\n",
        "                 # Global Exception Handlers:\n",
        "                       # For applications with many threads, you can set up a global exception handler to catch uncaught exceptions.\n",
        "                       # This can help with logging and cleanup, although it should be used judiciously.\n",
        "                 # Using Context Managers:\n",
        "                       # Context managers can help manage resources and ensure cleanup even in the presence of exceptions.\n",
        "                       # Example:\n",
        "                                from contextlib import contextmanager\n",
        "\n",
        "                                @contextmanager\n",
        "                                def resource_manager():\n",
        "                                    try:\n",
        "                                        yield\n",
        "                                    except Exception as e:\n",
        "                                        print(f'Error: {e}')\n",
        "                                    finally:   # Release resource"
      ],
      "metadata": {
        "id": "ClaxrbbJQvI1"
      },
      "execution_count": null,
      "outputs": []
    },
    {
      "cell_type": "code",
      "source": [
        "# Q.7 Create a program that uses a thread pool to calculate the factorial of numbers from 1 to 10 concurrently. Use concurrent.futures.ThreadPoolExecutor to manage the threads.\n",
        "\n",
        "## Ans:\n",
        "\n",
        "import concurrent.futures\n",
        "\n",
        "def factorial(n):\n",
        "    if n == 0:\n",
        "        return 1\n",
        "    else:\n",
        "        return n * factorial(n-1)\n",
        "\n",
        "def calculate_factorial(num):\n",
        "    result = factorial(num)\n",
        "    print(f\"Factorial of {num} is {result}\")\n",
        "    return result\n",
        "\n",
        "if __name__ == \"__main__\":\n",
        "    numbers = range(1, 11)\n",
        "\n",
        "    with concurrent.futures.ThreadPoolExecutor() as executor:\n",
        "        executor.map(calculate_factorial, numbers)"
      ],
      "metadata": {
        "colab": {
          "base_uri": "https://localhost:8080/"
        },
        "id": "SnBq5IG-ZU4I",
        "outputId": "289de4e4-6034-4c7e-fd68-18cb8547167f"
      },
      "execution_count": null,
      "outputs": [
        {
          "output_type": "stream",
          "name": "stdout",
          "text": [
            "Factorial of 1 is 1\n",
            "Factorial of 2 is 2\n",
            "Factorial of 3 is 6\n",
            "Factorial of 4 is 24\n",
            "Factorial of 5 is 120\n",
            "Factorial of 6 is 720\n",
            "Factorial of 7 is 5040\n",
            "Factorial of 8 is 40320\n",
            "Factorial of 9 is 362880\n",
            "Factorial of 10 is 3628800\n"
          ]
        }
      ]
    },
    {
      "cell_type": "code",
      "source": [
        "# Q.8  Create a Python program that uses multiprocessing.Pool to compute the square of numbers from 1 to 10 in parallel.\n",
        "       # Measure the time taken to perform this computation using a pool of different sizes (e.g., 2, 4, 8 processes).\n",
        "\n",
        "## Ans:\n",
        "\n",
        "import multiprocessing\n",
        "import time\n",
        "\n",
        "def square(n):\n",
        "    return n * n\n",
        "\n",
        "def main():\n",
        "    numbers = list(range(1, 11))  # Numbers from 1 to 10\n",
        "    pool_sizes = [2, 4, 8]  # Different pool sizes\n",
        "\n",
        "    for pool_size in pool_sizes:\n",
        "        with multiprocessing.Pool(processes=pool_size) as pool:\n",
        "            start_time = time.time()\n",
        "            results = pool.map(square, numbers)\n",
        "            end_time = time.time()\n",
        "\n",
        "        print(f'Pool size: {pool_size}, Results: {results}, Time taken: {end_time - start_time:.4f} seconds')\n",
        "\n",
        "if __name__ == '__main__':\n",
        "    main()"
      ],
      "metadata": {
        "colab": {
          "base_uri": "https://localhost:8080/"
        },
        "id": "YmbWjiNzc2DS",
        "outputId": "6fe0e34e-1fd2-43b6-b0b7-3b7d44ba54a2"
      },
      "execution_count": null,
      "outputs": [
        {
          "output_type": "stream",
          "name": "stdout",
          "text": [
            "Pool size: 2, Results: [1, 4, 9, 16, 25, 36, 49, 64, 81, 100], Time taken: 0.0054 seconds\n",
            "Pool size: 4, Results: [1, 4, 9, 16, 25, 36, 49, 64, 81, 100], Time taken: 0.0022 seconds\n",
            "Pool size: 8, Results: [1, 4, 9, 16, 25, 36, 49, 64, 81, 100], Time taken: 0.0154 seconds\n"
          ]
        }
      ]
    },
    {
      "cell_type": "code",
      "source": [],
      "metadata": {
        "id": "O5AV6sN6gq6T"
      },
      "execution_count": null,
      "outputs": []
    }
  ]
}